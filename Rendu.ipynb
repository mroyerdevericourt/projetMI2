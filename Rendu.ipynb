{
 "cells": [
  {
   "cell_type": "markdown",
   "metadata": {},
   "source": [
    "### Question 1"
   ]
  },
  {
   "cell_type": "markdown",
   "metadata": {
    "tags": []
   },
   "source": [
    "* $\\alpha$ représente (la procréation - les morts naturels) de l'espèce proie\n",
    "* $\\beta$ caractérise la quantité de proie consommés par les prédateurs, par prédateurs par unité de temps\n",
    "* $\\gamma$ représente (la procréation - les morts naturels) de l'espèce prédateur\n",
    "* $\\delta$ caractérise les morts \n",
    "\n",
    "Soit $x_0 = (x_{10}, x_{20})$ un point d'équilibre du système. On a $\\begin{cases} \\dot{x_1}|_{x_{10}} = 0 \\\\ \\dot{x_2}|_{x_{20}} = 0 \\end{cases}$ alors $x_0$ vérifie \n",
    "$$\n",
    "\\begin{cases} x_{10}(\\alpha - \\beta x_{20})=0 \\\\ -x_{20}(\\gamma - \\delta x_{10}) = 0 \\end{cases}\n",
    "\\iff \n",
    "\\begin{cases} x_{10} = 0 & \\mbox{ou } &\\alpha - \\beta x_{20}=0 \\\\ x_{20} = 0 & \\mbox{ou } &\\gamma - \\delta x_{10} \\end{cases}\n",
    "$$\n",
    "En considérant les quatre possibilités, les seules compatibles avec la stricte posivité des constantes $\\alpha,\\beta,\\gamma,\\delta$ sont $x_0=(0,0)$ "
   ]
  },
  {
   "cell_type": "code",
   "execution_count": 0,
   "metadata": {},
   "outputs": [],
   "source": [
    "\n"
   ]
  },
  {
   "cell_type": "code",
   "execution_count": null,
   "metadata": {},
   "outputs": [],
   "source": []
  }
 ],
 "metadata": {
  "kernelspec": {
   "display_name": "Python 3",
   "language": "python",
   "name": "python3"
  },
  "language_info": {
   "codemirror_mode": {
    "name": "ipython",
    "version": 3
   },
   "file_extension": ".py",
   "mimetype": "text/x-python",
   "name": "python",
   "nbconvert_exporter": "python",
   "pygments_lexer": "ipython3",
   "version": "3.8.3-final"
  }
 },
 "nbformat": 4,
 "nbformat_minor": 4
}